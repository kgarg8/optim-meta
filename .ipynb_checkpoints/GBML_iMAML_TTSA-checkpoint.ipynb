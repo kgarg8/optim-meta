{
 "cells": [
  {
   "cell_type": "markdown",
   "metadata": {},
   "source": [
    "### PLOTS FOR IMAML AND TTSA"
   ]
  },
  {
   "cell_type": "markdown",
   "metadata": {},
   "source": [
    "<table><tr>\n",
    "<td> imaml_5way_1shot_15qry_lamb_100_cg_1 <img src=\"plots_wo_fairness/miniimagenet/accuracy_imaml_5way_1shot_15qry.png\" alt=\"Drawing\" style=\"width: 400px;\"/> </td>\n",
    "<td> imaml_reg_5way_1shot_15qry_lamb_100_cg_1 <img src=\"plots_wo_fairness/miniimagenet/accuracy_imaml_reg_5way_1shot_15qry.png\" alt=\"Drawing\" style=\"width: 400px;\"/> </td>\n",
    "</tr></table>\n",
    "\n",
    "<table><tr>\n",
    "<td> imaml_reg_5way_1shot_15qry_lamb_0.5_cg_1 <img src=\"plots_wo_fairness/miniimagenet/accuracy_imaml_reg_5way_1shot_15qry_lamb_0.5.png\" alt=\"Drawing\" style=\"width: 400px;\"/> </td>\n",
    "<td> imaml_reg_5way_1shot_15qry_lamb_0.5_cg_10 <img src=\"plots_wo_fairness/miniimagenet/accuracy_imaml_reg_5way_1shot_15qry_lamb_0.5_cg_10.png\" alt=\"Drawing\" style=\"width: 400px;\"/> </td>\n",
    "</tr></table>"
   ]
  },
  {
   "cell_type": "markdown",
   "metadata": {},
   "source": [
    "<table><tr>\n",
    "<td> imaml_ttsa_5way_1shot_15qry_lamb_100_cg_1 <img src=\"plots_wo_fairness/miniimagenet/accuracy_imaml_ttsa_5way_1shot_15qry.png\" alt=\"Drawing\" style=\"width: 400px;\"/> </td>\n",
    "<td> imaml_ttsa_reg_5way_1shot_15qry_lamb_100_cg_1 <img src=\"plots_wo_fairness/miniimagenet/accuracy_imaml_ttsa_reg_5way_1shot_15qry.png\" alt=\"Drawing\" style=\"width: 400px;\"/> </td>\n",
    "</tr></table>\n",
    "\n",
    "<table><tr>\n",
    "<td> imaml_ttsa_5way_1shot_15qry_lamb_0.5_cg_1 <img src=\"plots_wo_fairness/miniimagenet/accuracy_imaml_ttsa_5way_1shot_15qry_lamb_0.5.png\" alt=\"Drawing\" style=\"width: 400px;\"/> </td>\n",
    "<td> imaml_ttsa_5way_1shot_15qry_lamb_0.5_cg_10 <img src=\"plots_wo_fairness/miniimagenet/accuracy_imaml_ttsa_5way_1shot_15qry_lamb_0.5_cg_10.png\" alt=\"Drawing\" style=\"width: 400px;\"/> </td>\n",
    "</tr></table>"
   ]
  },
  {
   "cell_type": "markdown",
   "metadata": {},
   "source": [
    "                                Reference for lambda and CG steps\n",
    "<img src=\"plots_wo_fairness/resources/lambda_CG.png\"/>"
   ]
  },
  {
   "cell_type": "code",
   "execution_count": null,
   "metadata": {},
   "outputs": [],
   "source": []
  }
 ],
 "metadata": {
  "kernelspec": {
   "display_name": "Python 3",
   "language": "python",
   "name": "python3"
  },
  "language_info": {
   "codemirror_mode": {
    "name": "ipython",
    "version": 3
   },
   "file_extension": ".py",
   "mimetype": "text/x-python",
   "name": "python",
   "nbconvert_exporter": "python",
   "pygments_lexer": "ipython3",
   "version": "3.6.8"
  }
 },
 "nbformat": 4,
 "nbformat_minor": 2
}
